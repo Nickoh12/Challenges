{
 "cells": [
  {
   "cell_type": "code",
   "execution_count": 74,
   "metadata": {},
   "outputs": [],
   "source": [
    "def min_operations(start, end):\n",
    "    count= 0\n",
    "    ops= []\n",
    "    while end != 1:\n",
    "        if end % 2 == 0 and end > start:\n",
    "            end= end/2\n",
    "            count+=1\n",
    "            ops.append('*2')\n",
    "        if end < start: \n",
    "            end +=1 \n",
    "            count +=1\n",
    "            ops.append('-1')\n",
    "        if end == start: \n",
    "            end= end/start \n",
    "        if end % 2!= 0 and end > start: \n",
    "            end +=1 \n",
    "            count+=1\n",
    "            ops.append('-1')\n",
    "    ops.reverse()\n",
    "    print(count,'operations needed:')\n",
    "    print(ops)"
   ]
  }
 ],
 "metadata": {
  "kernelspec": {
   "display_name": "Python 3",
   "language": "python",
   "name": "python3"
  },
  "language_info": {
   "codemirror_mode": {
    "name": "ipython",
    "version": 3
   },
   "file_extension": ".py",
   "mimetype": "text/x-python",
   "name": "python",
   "nbconvert_exporter": "python",
   "pygments_lexer": "ipython3",
   "version": "3.8.5"
  }
 },
 "nbformat": 4,
 "nbformat_minor": 4
}
