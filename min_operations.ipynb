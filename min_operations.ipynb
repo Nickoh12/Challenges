{
 "cells": [
  {
   "cell_type": "code",
   "execution_count": 1,
   "metadata": {},
   "outputs": [],
   "source": [
    "def min_operations(start, end):\n",
    "    ops= []\n",
    "    num= end\n",
    "    while end != 1:\n",
    "        if end % 2 == 0 and end > start:\n",
    "            end= end/2\n",
    "            ops.append('*2')\n",
    "        if end < start: \n",
    "            end +=1 \n",
    "            ops.append('-1')\n",
    "        if end == start: \n",
    "            end= end/start \n",
    "        if end % 2!= 0 and end > start: \n",
    "            end +=1 \n",
    "            ops.append('-1')\n",
    "    ops.reverse()\n",
    "    ops.insert(0, str(start))\n",
    "    count= len(ops)-1\n",
    "    ops= [x + ')' if count > i and x == '-1' and ops[i+1] =='*2' else x for i,x in enumerate(ops)]\n",
    "    ops= (ops.count('-1)')*'(')+''.join(ops)+'='+str(num)\n",
    "    print(count,'operations needed:')\n",
    "    print(ops)"
   ]
  },
  {
   "cell_type": "code",
   "execution_count": 3,
   "metadata": {},
   "outputs": [
    {
     "name": "stdout",
     "output_type": "stream",
     "text": [
      "9 operations needed:\n",
      "(((6-1)*2*2-1)*2*2-1)*2*2=300\n",
      "0.0 seconds\n"
     ]
    }
   ],
   "source": [
    "import time\n",
    "\n",
    "start_time = time.time()\n",
    "min_operations(6,300)\n",
    "print (time.time() - start_time, \"seconds\")"
   ]
  }
 ],
 "metadata": {
  "kernelspec": {
   "display_name": "Python 3",
   "language": "python",
   "name": "python3"
  },
  "language_info": {
   "codemirror_mode": {
    "name": "ipython",
    "version": 3
   },
   "file_extension": ".py",
   "mimetype": "text/x-python",
   "name": "python",
   "nbconvert_exporter": "python",
   "pygments_lexer": "ipython3",
   "version": "3.8.5"
  }
 },
 "nbformat": 4,
 "nbformat_minor": 4
}
